{
 "cells": [
  {
   "cell_type": "code",
   "execution_count": 1,
   "metadata": {},
   "outputs": [],
   "source": [
    "import numpy as np\n"
   ]
  },
  {
   "cell_type": "code",
   "execution_count": 2,
   "metadata": {},
   "outputs": [],
   "source": [
    "class Naibvebayes:\n",
    "\n",
    "    def fit(self, X , y):\n",
    "        nbr_samples, nbr_feature =X.shape\n",
    "        self._classes= np.unique(y)\n",
    "        nbr_classes =len(self._classes)\n",
    "        #calculer la moyenne variance prior pour chaque class\n",
    "        self._moy=np.zeros((nbr_classes,nbr_feature), dtype=np.float64)\n",
    "        self._var=np.zeros((nbr_classes,nbr_feature), dtype=np.float64)\n",
    "        self._pri=np.zeros(nbr_classes, dtype=np.float64)\n",
    "\n",
    "        for  c  in self._classes:\n",
    "            X_c=X[y==c]\n",
    "            self._moy[c, :]=X_c.mean(axis=0)\n",
    "            self._var[c, :]=X_c.var(axis=0)\n",
    "            self._pri[c]=X_c.shape[0]/float(nbr_samples)\n",
    "\n",
    "\n",
    "    def predict(self,X):\n",
    "        y_pred =[self._predict(x) for x in X]\n",
    "        return y_pred\n",
    "    \n",
    "    def _predict(self ,x):\n",
    "        posteriors= []\n",
    "\n",
    "        for index,c in enumerate (self._classes):\n",
    "            prior=np.log(self._pri[index])\n",
    "            class_condi=np.sum(np.log(self._pdf(index,x)))\n",
    "            posterior=prior+ class_condi\n",
    "            posteriors.append(posterior)\n",
    "            return self._classes[np.argmax(posteriors)]\n",
    "        \n",
    "    def _pdf(self,class_index,x):\n",
    "        mean=self._moy[class_index]\n",
    "        var=self._var[class_index]\n",
    "        numerator=np.exp(-(x-mean)**2/(2*var))\n",
    "        denomenator=np.sqrt(2*np.pi*var)\n",
    "        return numerator / denomenator\n",
    "\n",
    "\n",
    "\n",
    "\n"
   ]
  },
  {
   "cell_type": "code",
   "execution_count": 3,
   "metadata": {},
   "outputs": [],
   "source": [
    "from sklearn.model_selection import train_test_split\n",
    "from sklearn import datasets\n"
   ]
  },
  {
   "cell_type": "code",
   "execution_count": 4,
   "metadata": {},
   "outputs": [],
   "source": [
    "def accuracy(y_true, y_pred):\n",
    "    accuracy=np.sum(y_true==y_pred)/len(y_true)\n",
    "    return accuracy"
   ]
  },
  {
   "cell_type": "code",
   "execution_count": 5,
   "metadata": {},
   "outputs": [],
   "source": [
    "X,y=datasets.make_classification(\n",
    "    n_samples=10000, n_features=10 , n_classes=2, random_state=10\n",
    ")"
   ]
  },
  {
   "cell_type": "code",
   "execution_count": 6,
   "metadata": {},
   "outputs": [],
   "source": [
    "X_train,X_test ,y_train , y_test= train_test_split(X,y,test_size=0.2, random_state=32)"
   ]
  },
  {
   "cell_type": "code",
   "execution_count": 7,
   "metadata": {},
   "outputs": [],
   "source": [
    "nb=Naibvebayes()\n",
    "nb.fit(X_train,y_train)\n",
    "prediction= nb.predict(X_test)"
   ]
  },
  {
   "cell_type": "code",
   "execution_count": 8,
   "metadata": {},
   "outputs": [
    {
     "name": "stdout",
     "output_type": "stream",
     "text": [
      "Naibvebayes accuracy 0.514\n"
     ]
    }
   ],
   "source": [
    "print('Naibvebayes accuracy', accuracy(y_test ,prediction))"
   ]
  },
  {
   "cell_type": "code",
   "execution_count": null,
   "metadata": {},
   "outputs": [],
   "source": []
  }
 ],
 "metadata": {
  "kernelspec": {
   "display_name": "Python 3",
   "language": "python",
   "name": "python3"
  },
  "language_info": {
   "codemirror_mode": {
    "name": "ipython",
    "version": 3
   },
   "file_extension": ".py",
   "mimetype": "text/x-python",
   "name": "python",
   "nbconvert_exporter": "python",
   "pygments_lexer": "ipython3",
   "version": "3.9.6"
  },
  "orig_nbformat": 4,
  "vscode": {
   "interpreter": {
    "hash": "c25269a4018224bb4e3cb6b79397037e31419b0dedc1b97e47175df2e08dbf7b"
   }
  }
 },
 "nbformat": 4,
 "nbformat_minor": 2
}
